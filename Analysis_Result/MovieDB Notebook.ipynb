{
 "metadata": {
  "kernelspec": {
   "display_name": "Streamlit Notebook",
   "name": "streamlit"
  },
  "lastEditStatus": {
   "notebookId": "6azoen4wnarhlailurde",
   "authorId": "7258114911022",
   "authorName": "SRINIVASAN",
   "authorEmail": "ssriniva661@gmail.com",
   "sessionId": "11442078-92d3-4d79-9b6a-f92c9c3bcd92",
   "lastEditTime": 1758705717253
  }
 },
 "nbformat_minor": 5,
 "nbformat": 4,
 "cells": [
  {
   "cell_type": "code",
   "id": "8d50cbf4-0c8d-4950-86cb-114990437ac9",
   "metadata": {
    "language": "sql",
    "name": "Query_1"
   },
   "source": "-- which movie collected top 3 box office in this whole time\n\nselect\nmn.name,\nm.released,\nconcat('$ ',m.gross)\nfrom moviedb.fact.fct_movies m\nleft join moviedb.dim.dim_movie_name mn\non m.m_id = mn.m_id\norder by gross desc limit 3;",
   "execution_count": null,
   "outputs": []
  },
  {
   "cell_type": "code",
   "id": "20a7a818-532e-413e-b28a-b048cc8b0a6e",
   "metadata": {
    "language": "sql",
    "name": "Query_2"
   },
   "outputs": [],
   "source": "-- Which actor-director duo has the highest average box office gross?\n\nselect \ns.star,\nd.director,\navg(gross) from moviedb.fact.fct_movies m\nleft join moviedb.dim.dim_director d on m.d_id = d.d_id\nleft join moviedb.dim.dim_star s on m.s_id=s.s_id\ngroup by s.star, d.director\norder by avg(gross) desc\nlimit 5;",
   "execution_count": null
  },
  {
   "cell_type": "code",
   "id": "8d315d57-dafe-404f-a449-0b99ecb426a8",
   "metadata": {
    "language": "sql",
    "name": "Query_3"
   },
   "outputs": [],
   "source": "-- Which writer has the highest number of films with a perfect score (8 and above)\n\nselect distinct w.writer, count(m.m_id) no_of_movies,round(avg(m.score),1) avg_score from moviedb.fact.fct_movies m\nleft join moviedb.dim.dim_writer w on m.w_id=w.w_id\nwhere m.score >= 8\ngroup by w.writer\norder by count(m.m_id) desc\nlimit 5;",
   "execution_count": null
  },
  {
   "cell_type": "code",
   "id": "e7c13545-e016-4ad9-a3c4-a67c88baf98d",
   "metadata": {
    "language": "sql",
    "name": "Query_4"
   },
   "outputs": [],
   "source": "-- Which country produces the highest number of horror films and what is their total budget spent on those films?\n\n-- Horror id = 4\n\nselect distinct c.country,count(m.m_id) no_of_movies,\nconcat('$',round((sum(m.budget) / 1000000),0),' M') amount_spend\nfrom moviedb.fact.fct_movies m\nleft join moviedb.dim.dim_country c on m.p_id=c.p_id\nwhere m.g_id = 4\ngroup by c.country\norder by count(m.m_id) desc limit 3;",
   "execution_count": null
  },
  {
   "cell_type": "code",
   "id": "d63cb541-5e9e-4931-ad28-685f9b04cef5",
   "metadata": {
    "language": "sql",
    "name": "Query_5"
   },
   "outputs": [],
   "source": "-- For each movie rating, which production company has the highest box office gross (using Windows func)\n\nwith cte_1 as (\nselect \nr.rating rating, \nc.company studios, \nsum(m.gross) gross\nfrom moviedb.fact.fct_movies m\nleft join moviedb.dim.dim_rating r on m.r_id=r.r_id\nleft join moviedb.dim.dim_company c on m.c_id=c.c_id\nwhere r.rating not in ('','Not Rated','Unrated')\ngroup by rating, company\n), cte_2 as (select *,\nrow_number() over(partition by rating order by gross desc) ranking\nfrom cte_1\n), cte_3 as (select rating,studios,concat('$',round((gross/1000000),0),' M') boxOffice\nfrom cte_2 where ranking = 1 )\nselect rating, studios, boxOffice from cte_3;",
   "execution_count": null
  }
 ]
}