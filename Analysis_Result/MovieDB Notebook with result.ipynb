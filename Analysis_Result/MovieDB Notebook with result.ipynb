{
 "metadata": {
  "kernelspec": {
   "display_name": "Streamlit Notebook",
   "name": "streamlit"
  },
  "lastEditStatus": {
   "notebookId": "2z6as4dcsfv2kzqc7rj6",
   "authorId": "7258114911022",
   "authorName": "SRINIVASAN",
   "authorEmail": "ssriniva661@gmail.com",
   "sessionId": "a43801ff-cdf7-45c6-b189-5c010d6cb630",
   "lastEditTime": 1758774172708
  }
 },
 "nbformat_minor": 5,
 "nbformat": 4,
 "cells": [
  {
   "cell_type": "code",
   "id": "8d50cbf4-0c8d-4950-86cb-114990437ac9",
   "metadata": {
    "language": "sql",
    "name": "Query_1"
   },
   "source": "-- which movie collected top 3 box office in this whole time\n\nselect\nmn.name,\nm.released,\nconcat('$',round((m.gross/1000000),0),' M') boxOffice\nfrom moviedb.fact.fct_movies m\nleft join moviedb.dim.dim_movie_name mn\non m.m_id = mn.m_id\norder by gross desc limit 3;",
   "execution_count": null,
   "outputs": []
  },
  {
   "cell_type": "markdown",
   "id": "a50554ac-9d0f-4228-9f3a-2e251deee02f",
   "metadata": {
    "name": "Query_1_Result",
    "collapsed": false
   },
   "source": "| NAME               | RELEASED                          | BOXOFFICE |\n|--------------------|-----------------------------------|-----------|\n| Avatar             | December 18, 2009 (United States) | $2847 M   |\n| Avengers: Endgame  | April 26, 2019 (United States)    | $2798 M   |\n| Titanic            | December 19, 1997 (United States) | $2202 M   |\n"
  },
  {
   "cell_type": "code",
   "id": "20a7a818-532e-413e-b28a-b048cc8b0a6e",
   "metadata": {
    "language": "sql",
    "name": "Query_2"
   },
   "outputs": [],
   "source": "-- Which actor-director duo has the highest average box office gross?\n\nselect \ns.star,\nd.director,\nconcat('$',round((avg(gross)/1000000),0),' M') avgGross\nfrom moviedb.fact.fct_movies m\nleft join moviedb.dim.dim_director d on m.d_id = d.d_id\nleft join moviedb.dim.dim_star s on m.s_id=s.s_id\ngroup by s.star, d.director\norder by avg(gross) desc\nlimit 5;",
   "execution_count": null
  },
  {
   "cell_type": "markdown",
   "id": "4e8c45c6-12ef-4711-be53-c0f79fee8927",
   "metadata": {
    "name": "Query_2_Result",
    "collapsed": false
   },
   "source": "| STAR               | DIRECTOR        | AVGGROSS |\n|--------------------|-----------------|----------|\n| Sam Worthington    | James Cameron   | $2847 M  |\n| Robert Downey Jr.  | Anthony Russo   | $2423 M  |\n| Leonardo DiCaprio  | James Cameron   | $2202 M  |\n| Donald Glover      | Jon Favreau     | $1671 M  |\n| Chris Pratt        | Colin Trevorrow | $1671 M  |\n"
  },
  {
   "cell_type": "code",
   "id": "8d315d57-dafe-404f-a449-0b99ecb426a8",
   "metadata": {
    "language": "sql",
    "name": "Query_3"
   },
   "outputs": [],
   "source": "-- Which writer has the highest number of films with a perfect score (8 and above)\n\nselect distinct w.writer, count(m.m_id) no_of_movies,round(avg(m.score),1) avg_score from moviedb.fact.fct_movies m\nleft join moviedb.dim.dim_writer w on m.w_id=w.w_id\nwhere m.score >= 8\ngroup by w.writer\norder by count(m.m_id) desc\nlimit 5;",
   "execution_count": null
  },
  {
   "cell_type": "markdown",
   "id": "8a04fe5d-782c-4f3d-ab2d-0cf4ded3a764",
   "metadata": {
    "name": "Query_3_Result",
    "collapsed": false
   },
   "source": "| WRITER            | NO_OF_MOVIES | AVG_SCORE |\n|-------------------|--------------|-----------|\n| Quentin Tarantino | 6            | 8.3       |\n| Hayao Miyazaki    | 5            | 8.3       |\n| Jonathan Nolan    | 4            | 8.6       |\n| Stephen King      | 4            | 8.6       |\n| Pete Docter       | 3            | 8.1       |\n"
  },
  {
   "cell_type": "code",
   "id": "e7c13545-e016-4ad9-a3c4-a67c88baf98d",
   "metadata": {
    "language": "sql",
    "name": "Query_4"
   },
   "outputs": [],
   "source": "-- Which country produces the highest number of horror films and what is their total budget spent on those films?\n\n-- Horror id = 4\n\nselect distinct c.country,count(m.m_id) no_of_movies,\nconcat('$',round((sum(m.budget) / 1000000),0),' M') amount_spend\nfrom moviedb.fact.fct_movies m\nleft join moviedb.dim.dim_country c on m.p_id=c.p_id\nwhere m.g_id = 4\ngroup by c.country\norder by count(m.m_id) desc limit 3;",
   "execution_count": null
  },
  {
   "cell_type": "markdown",
   "id": "2b49c53b-7fd8-4db3-96ad-8d8331573d2d",
   "metadata": {
    "name": "Query_4_Result",
    "collapsed": false
   },
   "source": "| COUNTRY        | NO_OF_MOVIES | AMOUNT_SPEND |\n|----------------|--------------|--------------|\n| United States  | 246          | $2701 M      |\n| United Kingdom | 24           | $287 M       |\n| Canada         | 23           | $267 M       |\n"
  },
  {
   "cell_type": "code",
   "id": "d63cb541-5e9e-4931-ad28-685f9b04cef5",
   "metadata": {
    "language": "sql",
    "name": "Query_5"
   },
   "outputs": [],
   "source": "-- For each movie rating, which production company has the highest box office gross (using Windows func)\n\nwith cte_1 as (\nselect \nr.rating rating, \nc.company studios, \nsum(m.gross) gross\nfrom moviedb.fact.fct_movies m\nleft join moviedb.dim.dim_rating r on m.r_id=r.r_id\nleft join moviedb.dim.dim_company c on m.c_id=c.c_id\nwhere r.rating not in ('','Not Rated','Unrated')\ngroup by rating, company\n), cte_2 as (select *,\nrow_number() over(partition by rating order by gross desc) ranking\nfrom cte_1\n), cte_3 as (select rating,studios,concat('$',round((gross/1000000),0),' M') boxOffice\nfrom cte_2 where ranking = 1 )\nselect rating, studios, boxOffice from cte_3;",
   "execution_count": null
  },
  {
   "cell_type": "markdown",
   "id": "450beb78-300e-45ac-91eb-b654b356d895",
   "metadata": {
    "name": "Query_5_Result",
    "collapsed": false
   },
   "source": "| RATING  | STUDIOS                                                        | BOXOFFICE |\n|---------|----------------------------------------------------------------|-----------|\n| PG-13   | Warner Bros.                                                   | $30886 M  |\n| NC-17   | Haishang Films                                                 | $67 M     |\n| G       | Walt Disney Pictures                                           | $8657 M   |\n| TV-PG   | Amuse                                                          | $358 M    |\n| R       | Warner Bros.                                                   | $15717 M  |\n| TV-MA   | Beijing Dengfeng International Culture Communications Company  | $700 M    |\n| PG      | Walt Disney Pictures                                           | $17705 M  |\n| Approved| Metro-Goldwyn-Mayer (MGM)                                      | $37 M     |\n| TV-14   | Premiere Picture                                               | $6 M      |\n| X       | Carolco International N.V.                                     | $17 M     |\n"
  }
 ]
}